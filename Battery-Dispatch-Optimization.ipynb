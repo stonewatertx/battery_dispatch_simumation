{
 "cells": [
  {
   "cell_type": "markdown",
   "metadata": {},
   "source": [
    "# A battery dispatch simulaiton with linear programming\n",
    "\n",
    "In this project, a 100 kW, 2-hour battery is simulated over a whole year span to operate in NYC market to maximize the profit based on Locational Marginal Price (LMP). \n",
    "\n",
    "This project is inspired by a previous work done by Stephen Klosterman at https://www.steveklosterman.com/energy-arbitrage/, with two major modifications though. (1) In the original work by Stephen, simulaiton was done on a daily basis assuming we only know the LMP for the next 36 hours at a time. In this project, simulation was done semi-annually instead. The goal is to explore if there is additional profit that can be earned or different dispatch patterns if we have an accurate annual LMP forecast before hand. When I first tried annual simulations, the PULP tool I used often failed, which might be related to number of variables and constraints. Thus I devided it into two semi-annual simulations and combined them. (2) In this project I added a binary variable for discharge status and a constraint for number of discharges. This can be of interest in real practice because too frequent discharges can make batteries degrade and retire early. "
   ]
  },
  {
   "cell_type": "code",
   "execution_count": 1,
   "metadata": {},
   "outputs": [],
   "source": [
    "import pulp\n",
    "import pandas as pd\n",
    "import matplotlib.pyplot as plt\n",
    "import time"
   ]
  },
  {
   "cell_type": "markdown",
   "metadata": {},
   "source": [
    "# Import price data"
   ]
  },
  {
   "cell_type": "markdown",
   "metadata": {},
   "source": [
    "The raw data can be found in Stephen's work. Here I'm simply importing a lighter and cleaner dataset where only NYC data is selected."
   ]
  },
  {
   "cell_type": "code",
   "execution_count": 2,
   "metadata": {},
   "outputs": [],
   "source": [
    "lmp = pd.read_csv('lmp.csv',index_col=0)\n",
    "lmp = lmp[:8760]"
   ]
  },
  {
   "cell_type": "code",
   "execution_count": 3,
   "metadata": {},
   "outputs": [
    {
     "data": {
      "text/html": [
       "<div>\n",
       "<style scoped>\n",
       "    .dataframe tbody tr th:only-of-type {\n",
       "        vertical-align: middle;\n",
       "    }\n",
       "\n",
       "    .dataframe tbody tr th {\n",
       "        vertical-align: top;\n",
       "    }\n",
       "\n",
       "    .dataframe thead th {\n",
       "        text-align: right;\n",
       "    }\n",
       "</style>\n",
       "<table border=\"1\" class=\"dataframe\">\n",
       "  <thead>\n",
       "    <tr style=\"text-align: right;\">\n",
       "      <th></th>\n",
       "      <th>Name</th>\n",
       "      <th>PTID</th>\n",
       "      <th>LBMP ($/MWHr)</th>\n",
       "      <th>Marginal Cost Losses ($/MWHr)</th>\n",
       "      <th>Marginal Cost Congestion ($/MWHr)</th>\n",
       "    </tr>\n",
       "    <tr>\n",
       "      <th>Time Stamp</th>\n",
       "      <th></th>\n",
       "      <th></th>\n",
       "      <th></th>\n",
       "      <th></th>\n",
       "      <th></th>\n",
       "    </tr>\n",
       "  </thead>\n",
       "  <tbody>\n",
       "    <tr>\n",
       "      <th>2020-04-29 19:00:00</th>\n",
       "      <td>N.Y.C.</td>\n",
       "      <td>61761</td>\n",
       "      <td>19.94</td>\n",
       "      <td>1.09</td>\n",
       "      <td>-7.96</td>\n",
       "    </tr>\n",
       "    <tr>\n",
       "      <th>2020-04-29 20:00:00</th>\n",
       "      <td>N.Y.C.</td>\n",
       "      <td>61761</td>\n",
       "      <td>21.53</td>\n",
       "      <td>1.28</td>\n",
       "      <td>-7.09</td>\n",
       "    </tr>\n",
       "    <tr>\n",
       "      <th>2020-04-29 21:00:00</th>\n",
       "      <td>N.Y.C.</td>\n",
       "      <td>61761</td>\n",
       "      <td>17.34</td>\n",
       "      <td>1.28</td>\n",
       "      <td>-3.39</td>\n",
       "    </tr>\n",
       "    <tr>\n",
       "      <th>2020-04-29 22:00:00</th>\n",
       "      <td>N.Y.C.</td>\n",
       "      <td>61761</td>\n",
       "      <td>15.42</td>\n",
       "      <td>1.11</td>\n",
       "      <td>-3.82</td>\n",
       "    </tr>\n",
       "    <tr>\n",
       "      <th>2020-04-29 23:00:00</th>\n",
       "      <td>N.Y.C.</td>\n",
       "      <td>61761</td>\n",
       "      <td>14.68</td>\n",
       "      <td>0.52</td>\n",
       "      <td>-9.20</td>\n",
       "    </tr>\n",
       "  </tbody>\n",
       "</table>\n",
       "</div>"
      ],
      "text/plain": [
       "                       Name   PTID  LBMP ($/MWHr)  \\\n",
       "Time Stamp                                          \n",
       "2020-04-29 19:00:00  N.Y.C.  61761          19.94   \n",
       "2020-04-29 20:00:00  N.Y.C.  61761          21.53   \n",
       "2020-04-29 21:00:00  N.Y.C.  61761          17.34   \n",
       "2020-04-29 22:00:00  N.Y.C.  61761          15.42   \n",
       "2020-04-29 23:00:00  N.Y.C.  61761          14.68   \n",
       "\n",
       "                     Marginal Cost Losses ($/MWHr)  \\\n",
       "Time Stamp                                           \n",
       "2020-04-29 19:00:00                           1.09   \n",
       "2020-04-29 20:00:00                           1.28   \n",
       "2020-04-29 21:00:00                           1.28   \n",
       "2020-04-29 22:00:00                           1.11   \n",
       "2020-04-29 23:00:00                           0.52   \n",
       "\n",
       "                     Marginal Cost Congestion ($/MWHr)  \n",
       "Time Stamp                                              \n",
       "2020-04-29 19:00:00                              -7.96  \n",
       "2020-04-29 20:00:00                              -7.09  \n",
       "2020-04-29 21:00:00                              -3.39  \n",
       "2020-04-29 22:00:00                              -3.82  \n",
       "2020-04-29 23:00:00                              -9.20  "
      ]
     },
     "execution_count": 3,
     "metadata": {},
     "output_type": "execute_result"
    }
   ],
   "source": [
    "lmp.tail()"
   ]
  },
  {
   "cell_type": "code",
   "execution_count": 4,
   "metadata": {},
   "outputs": [],
   "source": [
    "lmp.index = pd.to_datetime(lmp.index)"
   ]
  },
  {
   "cell_type": "code",
   "execution_count": 5,
   "metadata": {},
   "outputs": [
    {
     "data": {
      "text/plain": [
       "Text(0.5, 1.0, 'Locational Marginal Price ($/MWH)')"
      ]
     },
     "execution_count": 5,
     "metadata": {},
     "output_type": "execute_result"
    },
    {
     "data": {
      "image/png": "[encoded data removed]",
      "text/plain": [
       "<Figure size 1080x216 with 1 Axes>"
      ]
     },
     "metadata": {
      "needs_background": "light"
     },
     "output_type": "display_data"
    }
   ],
   "source": [
    "plt.subplots(figsize=(15,3)) \n",
    "lmp['LBMP ($/MWHr)'].plot()\n",
    "plt.title('Locational Marginal Price ($/MWH)')"
   ]
  },
  {
   "cell_type": "code",
   "execution_count": 6,
   "metadata": {},
   "outputs": [
    {
     "data": {
      "text/plain": [
       "8760"
      ]
     },
     "execution_count": 6,
     "metadata": {},
     "output_type": "execute_result"
    }
   ],
   "source": [
    "len(lmp)"
   ]
  },
  {
   "cell_type": "markdown",
   "metadata": {},
   "source": [
    "The LMP data starts from May 1, 2019 and end on April 29, 2020. It consists of 365 days (8760 hours)"
   ]
  },
  {
   "cell_type": "markdown",
   "metadata": {},
   "source": [
    "# Define a Battery class and several methods needed for building a Linear Programming problem"
   ]
  },
  {
   "cell_type": "code",
   "execution_count": 7,
   "metadata": {},
   "outputs": [],
   "source": [
    "class Battery():\n",
    "    \n",
    "    def __init__(self,\n",
    "                 time_horizon,\n",
    "                 max_discharge_power_capacity,\n",
    "                 max_charge_power_capacity):\n",
    "        \n",
    "        \"\"\"initiate the class and set up decision variables\"\"\"\n",
    "        self.time_horizon = time_horizon\n",
    "        \n",
    "        # Variable 1 - charge in each hour\n",
    "        self.charge =  pulp.LpVariable.dicts(\n",
    "            \"charging_power\",\n",
    "            (f'c_t_{i}' for i in range(0,time_horizon)),\n",
    "            lowBound=0, upBound=max_charge_power_capacity,\n",
    "            cat='Continuous')\n",
    "        \n",
    "        # Variable 2 - discharge in each hour\n",
    "        self.discharge =  pulp.LpVariable.dicts(\n",
    "            \"discharging_power\",\n",
    "            (f'd_t_{i}' for i in range(0,time_horizon)),\n",
    "            lowBound=0, upBound=max_discharge_power_capacity,\n",
    "            cat='Continuous')\n",
    "        \n",
    "        # Variable 3 (Binary) - discharge status in each hour\n",
    "        self.discharge_status = pulp.LpVariable.dicts(\n",
    "            \"discharge_status\",\n",
    "            (f'ds_t_{i}' for i in range(0,time_horizon)),\n",
    "            cat='Binary')\n",
    "\n",
    "    def set_objective(self, lmp_df):\n",
    "        \n",
    "        \"\"\"set up objective function: (sum of charge cost + sum of discharge payment)\"\"\"\n",
    "\n",
    "        try:\n",
    "            assert len(lmp_df) == self.time_horizon\n",
    "        except:\n",
    "            print('Error: need one price for each hour in time horizon')\n",
    "        \n",
    "        self.model = pulp.LpProblem(\"battery_dispatch\", pulp.LpMaximize)\n",
    "    \n",
    "\n",
    "        self.model += \\\n",
    "        pulp.LpAffineExpression(\n",
    "            [(self.charge[f'c_t_{i}'], -lmp_df.iloc[i].values) for i in range(self.time_horizon)]) +\\\n",
    "        pulp.LpAffineExpression(\n",
    "            [(self.discharge[f'd_t_{i}'], lmp_df.iloc[i].values) for i in range(self.time_horizon)])\n",
    "        \n",
    "    def add_storage_constraints(self,\n",
    "                                efficiency,\n",
    "                                min_capacity,\n",
    "                                discharge_energy_capacity,\n",
    "                                initial_level):\n",
    "        \n",
    "        # constraint 1 - at any hour, the battery level >= minimum capacity\n",
    "    \n",
    "        for hour_of_sim in range(1,self.time_horizon+1):     \n",
    "            self.model += \\\n",
    "            initial_level \\\n",
    "            + pulp.LpAffineExpression(\n",
    "                [(self.charge[f'c_t_{i}'], efficiency) for i in range(hour_of_sim)]) \\\n",
    "            - pulp.lpSum(\n",
    "                self.discharge[f'd_t_{i}'] for i in range(hour_of_sim))\\\n",
    "            >= min_capacity\n",
    "            \n",
    "        # constraint 2 - at any hour, the battery level <= maximum capacity\n",
    "\n",
    "        for hour_of_sim in range(1,self.time_horizon+1):\n",
    "            self.model += \\\n",
    "            initial_level \\\n",
    "            + pulp.LpAffineExpression(\n",
    "                [(self.charge[f'c_t_{i}'], efficiency) for i in range(hour_of_sim)]) \\\n",
    "            - pulp.lpSum(\n",
    "                self.discharge[f'd_t_{i}'] for i in range(hour_of_sim))\\\n",
    "            <= discharge_energy_capacity         \n",
    "            \n",
    "\n",
    "    def add_discharge_constraints(self,max_discharge_count,discharge_energy_capacity):\n",
    "\n",
    "        # constraint 3 - at any hour, if discharge status is OFF, force discharge not exceed 0; \n",
    "        # if discharge status is ON, force discharge not exceed max discharge capacity\n",
    "        \n",
    "        for i in range(self.time_horizon):\n",
    "\n",
    "            self.model += self.discharge[f'd_t_{i}'] <= max_discharge_power_capacity \\\n",
    "            * self.discharge_status[f'ds_t_{i}']  \n",
    "            \n",
    "            \n",
    "        # constraint 4 - total number of discharges <= pre-defined limit\n",
    "        \n",
    "        self.model += \\\n",
    "        pulp.lpSum(\n",
    "            [self.discharge_status[f'ds_t_{i}'] for i in range(self.time_horizon)]) \\\n",
    "        <= max_discharge_count  \n",
    "        \n",
    "    def solve_model(self):\n",
    "        \n",
    "        \"\"\"Solve the optimization problem\"\"\"\n",
    "        \n",
    "        self.model.solve()\n",
    "        \n",
    "        #Show a warning if an optimal solution was not found\n",
    "        if pulp.LpStatus[self.model.status] != 'Optimal':\n",
    "            print('Warning: ' + pulp.LpStatus[self.model.status])\n",
    "            \n",
    "    def collect_output(self,lmp_df,initial_level):\n",
    "        \n",
    "        \"\"\"put all values of interest in a pandas dataframe\"\"\"\n",
    "        \n",
    "        df = lmp_df.copy()\n",
    "        df['charge'] = [-self.charge[f'c_t_{i}'].varValue for i in range(self.time_horizon)]\n",
    "        df['discharge'] = [self.discharge[f'd_t_{i}'].varValue for i in range(self.time_horizon)]\n",
    "        df['discharge_status'] = [self.discharge_status[f'ds_t_{i}'].varValue for i in range(self.time_horizon)]\n",
    "        df['state_of_energy'] = initial_level+(-df['charge']*efficiency).cumsum()-df['discharge'].cumsum()\n",
    "\n",
    "        return df"
   ]
  },
  {
   "cell_type": "markdown",
   "metadata": {},
   "source": [
    "# Run the simulation for first half year"
   ]
  },
  {
   "cell_type": "code",
   "execution_count": 8,
   "metadata": {},
   "outputs": [],
   "source": [
    "max_discharge_power_capacity = 100 #(kW)\n",
    "max_charge_power_capacity = 100 #(kW)\n",
    "discharge_energy_capacity = 200 #(kWh)\n",
    "initial_level = discharge_energy_capacity/2\n",
    "efficiency = 0.85 #unitless\n",
    "\n",
    "time_horizon_1 = int(365/2)*24\n",
    "max_discharge_count = int(time_horizon_1/24*2)\n",
    "lmp_df=lmp[['LBMP ($/MWHr)']][:time_horizon_1]\n",
    "min_capacity=0"
   ]
  },
  {
   "cell_type": "code",
   "execution_count": 9,
   "metadata": {},
   "outputs": [],
   "source": [
    "# Create a battery instance and set up the variables\n",
    "battery = Battery(time_horizon_1,max_discharge_power_capacity,max_charge_power_capacity)"
   ]
  },
  {
   "cell_type": "code",
   "execution_count": 10,
   "metadata": {
    "scrolled": true
   },
   "outputs": [
    {
     "name": "stdout",
     "output_type": "stream",
     "text": [
      "Welcome to the CBC MILP Solver \n",
      "Version: 2.10.3 \n",
      "Build Date: Dec 15 2019 \n",
      "\n",
      "command line - /Users/mike/opt/anaconda3/envs/Bootcamp_Capstone_3/lib/python3.8/site-packages/pulp/apis/../solverdir/cbc/osx/64/cbc /var/folders/nr/1ym4q_1j1tq_84n001mm1shw0000gq/T/d3bcf130e58b42659465bea9a158531b-pulp.mps max timeMode elapsed branch printingOptions all solution /var/folders/nr/1ym4q_1j1tq_84n001mm1shw0000gq/T/d3bcf130e58b42659465bea9a158531b-pulp.sol (default strategy 1)\n",
      "At line 2 NAME          MODEL\n",
      "At line 3 ROWS\n",
      "At line 13110 COLUMNS\n",
      "At line 38211271 RHS\n",
      "At line 38224377 BOUNDS\n",
      "At line 38237482 ENDATA\n",
      "Problem MODEL has 13105 rows, 13104 columns and 38180688 elements\n",
      "Coin0008I MODEL read with 0 errors\n",
      "Option for timeMode changed from cpu to elapsed\n",
      "Continuous objective value is 616063 - 22.16 seconds\n",
      "Cgl0004I processed model has 8736 rows, 13104 columns (4368 integer (4368 of which binary)) and 19096894 elements\n",
      "Cbc0038I Initial state - 2 integers unsatisfied sum - 0.6\n",
      "Cbc0038I Pass   1: (101.31 seconds) suminf.    0.00000 (0) obj. -615965 iterations 584\n",
      "Cbc0038I Solution found of -615965\n",
      "Cbc0038I Relaxing continuous gives -616060\n",
      "Cbc0038I Before mini branch and bound, 4366 integers at bound fixed and 8553 continuous\n",
      "Cbc0038I Mini branch and bound did not improve solution (115.94 seconds)\n",
      "Cbc0038I Round again with cutoff of -616060\n",
      "Cbc0038I Reduced cost fixing fixed 3952 variables on major pass 2\n",
      "Cbc0038I Pass   2: (137.61 seconds) suminf.    0.06000 (2) obj. -616060 iterations 853\n",
      "Cbc0038I Pass   3: (141.47 seconds) suminf.    0.99500 (2) obj. -616060 iterations 25\n",
      "Cbc0038I Pass   4: (144.35 seconds) suminf.    0.99500 (2) obj. -616060 iterations 2\n",
      "Cbc0038I Pass   5: (147.30 seconds) suminf.    0.99500 (2) obj. -616060 iterations 2\n",
      "Cbc0038I Pass   6: (150.25 seconds) suminf.    0.99500 (2) obj. -616060 iterations 3\n",
      "Cbc0038I Pass   7: (153.63 seconds) suminf.    0.67238 (4) obj. -616060 iterations 41\n",
      "Cbc0038I Pass   8: (157.18 seconds) suminf.    0.06000 (2) obj. -616060 iterations 60\n",
      "Cbc0038I Pass   9: (160.74 seconds) suminf.    0.99500 (2) obj. -616060 iterations 27\n",
      "Cbc0038I Pass  10: (164.13 seconds) suminf.    0.99500 (2) obj. -616060 iterations 4\n",
      "Cbc0038I Pass  11: (167.36 seconds) suminf.    0.99500 (2) obj. -616060 iterations 4\n",
      "Cbc0038I Pass  12: (170.65 seconds) suminf.    0.99500 (2) obj. -616060 iterations 5\n",
      "Cbc0038I Pass  13: (173.80 seconds) suminf.    0.99500 (2) obj. -616060 iterations 7\n",
      "Cbc0038I Pass  14: (176.89 seconds) suminf.    0.99500 (2) obj. -616060 iterations 11\n",
      "Cbc0038I Pass  15: (179.88 seconds) suminf.    0.99500 (2) obj. -616060 iterations 6\n",
      "Cbc0038I Pass  16: (182.94 seconds) suminf.    0.06000 (2) obj. -616060 iterations 26\n",
      "Cbc0038I Pass  17: (185.76 seconds) suminf.    0.06000 (2) obj. -616060 iterations 1\n",
      "Cbc0038I Pass  18: (188.56 seconds) suminf.    0.06000 (2) obj. -616060 iterations 1\n",
      "Cbc0038I Pass  19: (191.43 seconds) suminf.    0.06000 (2) obj. -616060 iterations 3\n",
      "Cbc0038I Pass  20: (194.31 seconds) suminf.    0.06000 (2) obj. -616060 iterations 4\n",
      "Cbc0038I Pass  21: (197.42 seconds) suminf.    0.71839 (3) obj. -616060 iterations 139\n",
      "Cbc0038I Pass  22: (201.84 seconds) suminf.    0.62530 (4) obj. -616060 iterations 366\n",
      "Cbc0038I Pass  23: (205.07 seconds) suminf.    0.06000 (2) obj. -616060 iterations 281\n",
      "Cbc0038I Pass  24: (207.97 seconds) suminf.    0.06000 (2) obj. -616060 iterations 6\n",
      "Cbc0038I Pass  25: (210.86 seconds) suminf.    0.06000 (2) obj. -616060 iterations 10\n",
      "Cbc0038I Pass  26: (213.86 seconds) suminf.    0.06000 (2) obj. -616060 iterations 7\n",
      "Cbc0038I Pass  27: (216.72 seconds) suminf.    0.06000 (2) obj. -616060 iterations 4\n",
      "Cbc0038I Pass  28: (219.58 seconds) suminf.    0.06000 (2) obj. -616060 iterations 4\n",
      "Cbc0038I Pass  29: (222.49 seconds) suminf.    0.06000 (2) obj. -616060 iterations 3\n",
      "Cbc0038I Pass  30: (225.45 seconds) suminf.    0.06000 (2) obj. -616060 iterations 6\n",
      "Cbc0038I Pass  31: (228.83 seconds) suminf.    0.62158 (4) obj. -616060 iterations 154\n",
      "Cbc0038I No solution found this major pass\n",
      "Cbc0038I Before mini branch and bound, 4355 integers at bound fixed and 8540 continuous\n",
      "Cbc0038I Mini branch and bound did not improve solution (235.89 seconds)\n",
      "Cbc0038I After 236.04 seconds - Feasibility pump exiting with objective of -616060 - took 127.09 seconds\n",
      "Cbc0012I Integer solution of -616059.82 found by feasibility pump after 0 iterations and 0 nodes (239.17 seconds)\n",
      "Cbc0012I Integer solution of -616059.82 found by DiveCoefficient after 0 iterations and 0 nodes (245.50 seconds)\n",
      "Cbc0038I Full problem 8736 rows 13104 columns, reduced to 4370 rows 4735 columns\n",
      "Cbc0031I 1 added rows had average density of 18\n",
      "Cbc0013I At root node, 13 cuts changed objective from -616063 to -616059.82 in 1 passes\n",
      "Cbc0014I Cut generator 0 (Probing) - 0 row cuts average 0.0 elements, 195 column cuts (195 active)  in 0.747 seconds - new frequency is 1\n",
      "Cbc0014I Cut generator 1 (Gomory) - 0 row cuts average 0.0 elements, 0 column cuts (0 active)  in 0.920 seconds - new frequency is -100\n",
      "Cbc0014I Cut generator 2 (Knapsack) - 0 row cuts average 0.0 elements, 0 column cuts (0 active)  in 0.036 seconds - new frequency is -100\n",
      "Cbc0014I Cut generator 3 (Clique) - 0 row cuts average 0.0 elements, 0 column cuts (0 active)  in 0.000 seconds - new frequency is -100\n",
      "Cbc0014I Cut generator 4 (MixedIntegerRounding2) - 13 row cuts average 13.0 elements, 0 column cuts (0 active)  in 0.737 seconds - new frequency is 1\n",
      "Cbc0014I Cut generator 5 (FlowCover) - 0 row cuts average 0.0 elements, 0 column cuts (0 active)  in 0.108 seconds - new frequency is -100\n",
      "Cbc0001I Search completed - best objective -616059.823529412, took 0 iterations and 0 nodes (275.62 seconds)\n",
      "Cbc0035I Maximum depth 0, 3951 variables fixed on reduced cost\n",
      "Cuts at root node changed objective from -616063 to -616060\n",
      "Probing was tried 1 times and created 195 cuts of which 0 were active after adding rounds of cuts (0.747 seconds)\n",
      "Gomory was tried 1 times and created 0 cuts of which 0 were active after adding rounds of cuts (0.920 seconds)\n",
      "Knapsack was tried 1 times and created 0 cuts of which 0 were active after adding rounds of cuts (0.036 seconds)\n",
      "Clique was tried 1 times and created 0 cuts of which 0 were active after adding rounds of cuts (0.000 seconds)\n",
      "MixedIntegerRounding2 was tried 1 times and created 13 cuts of which 0 were active after adding rounds of cuts (0.737 seconds)\n",
      "FlowCover was tried 1 times and created 0 cuts of which 0 were active after adding rounds of cuts (0.108 seconds)\n",
      "TwoMirCuts was tried 1 times and created 0 cuts of which 0 were active after adding rounds of cuts (1.186 seconds)\n",
      "ZeroHalf was tried 1 times and created 0 cuts of which 0 were active after adding rounds of cuts (0.000 seconds)\n",
      "\n",
      "Result - Optimal solution found\n",
      "\n",
      "Objective value:                616059.82352941\n",
      "Enumerated nodes:               0\n",
      "Total iterations:               0\n",
      "Time (CPU seconds):             276.86\n",
      "Time (Wallclock seconds):       325.44\n",
      "\n",
      "Option for printingOptions changed from normal to all\n",
      "Total time (CPU seconds):       286.27   (Wallclock seconds):       335.96\n",
      "\n",
      "Total simulation time: 785.6801500320435 seconds\n"
     ]
    }
   ],
   "source": [
    "#Track simulation time\n",
    "tic = time.time()\n",
    "\n",
    "#Set objective function\n",
    "battery.set_objective(lmp_df)\n",
    "\n",
    "#Set constraints\n",
    "battery.add_storage_constraints(efficiency, min_capacity, discharge_energy_capacity, initial_level)\n",
    "\n",
    "battery.add_discharge_constraints(max_discharge_count,discharge_energy_capacity)\n",
    "\n",
    "#Solve the optimization problem and collect output\n",
    "battery.solve_model()\n",
    "\n",
    "df_1 = battery.collect_output(lmp_df,initial_level)\n",
    "\n",
    "toc = time.time()\n",
    "\n",
    "print('Total simulation time: ' + str(toc-tic) + ' seconds')"
   ]
  },
  {
   "cell_type": "markdown",
   "metadata": {},
   "source": [
    "# Run the simulation for second half year"
   ]
  },
  {
   "cell_type": "code",
   "execution_count": 11,
   "metadata": {},
   "outputs": [],
   "source": [
    "initial_level = df_1.iloc[-1,-1]\n",
    "time_horizon_2 = 8760-time_horizon_1\n",
    "lmp_df=lmp[['LBMP ($/MWHr)']][time_horizon_1:]\n",
    "max_discharge_count = int(time_horizon_2/24*2)"
   ]
  },
  {
   "cell_type": "code",
   "execution_count": 12,
   "metadata": {},
   "outputs": [],
   "source": [
    "# Create a battery instance and set up the variables\n",
    "battery = Battery(time_horizon_2,max_discharge_power_capacity,max_charge_power_capacity)"
   ]
  },
  {
   "cell_type": "code",
   "execution_count": 13,
   "metadata": {},
   "outputs": [
    {
     "name": "stdout",
     "output_type": "stream",
     "text": [
      "Welcome to the CBC MILP Solver \n",
      "Version: 2.10.3 \n",
      "Build Date: Dec 15 2019 \n",
      "\n",
      "command line - /Users/mike/opt/anaconda3/envs/Bootcamp_Capstone_3/lib/python3.8/site-packages/pulp/apis/../solverdir/cbc/osx/64/cbc /var/folders/nr/1ym4q_1j1tq_84n001mm1shw0000gq/T/30de8505f9374795a8d442ce7b0f9783-pulp.mps max timeMode elapsed branch printingOptions all solution /var/folders/nr/1ym4q_1j1tq_84n001mm1shw0000gq/T/30de8505f9374795a8d442ce7b0f9783-pulp.sol (default strategy 1)\n",
      "At line 2 NAME          MODEL\n",
      "At line 3 ROWS\n",
      "At line 13182 COLUMNS\n",
      "At line 38632039 RHS\n",
      "At line 38645217 BOUNDS\n",
      "At line 38658394 ENDATA\n",
      "Problem MODEL has 13177 rows, 13176 columns and 38601288 elements\n",
      "Coin0008I MODEL read with 0 errors\n",
      "Option for timeMode changed from cpu to elapsed\n",
      "Continuous objective value is 368646 - 14.57 seconds\n",
      "Cgl0004I processed model has 8785 rows, 13176 columns (4392 integer (4392 of which binary)) and 19307232 elements\n",
      "Cbc0038I Initial state - 10 integers unsatisfied sum - 2.8\n",
      "Cbc0038I Pass   1: (77.31 seconds) suminf.    0.00000 (0) obj. -365991 iterations 672\n",
      "Cbc0038I Solution found of -365991\n",
      "Cbc0038I Relaxing continuous gives -367680\n",
      "Cbc0038I Before mini branch and bound, 4380 integers at bound fixed and 8580 continuous\n",
      "Cbc0038I Full problem 8785 rows 13176 columns, reduced to 216 rows 216 columns\n",
      "Cbc0038I Mini branch and bound did not improve solution (89.10 seconds)\n",
      "Cbc0038I Round again with cutoff of -367776\n",
      "Cbc0038I Pass   2: (98.57 seconds) suminf.    0.27244 (2) obj. -367776 iterations 474\n",
      "Cbc0038I Pass   3: (101.81 seconds) suminf.    0.18897 (2) obj. -367776 iterations 552\n",
      "Cbc0038I Pass   4: (104.46 seconds) suminf.    0.00000 (0) obj. -367776 iterations 361\n",
      "Cbc0038I Solution found of -367776\n",
      "Cbc0038I Relaxing continuous gives -368389\n",
      "Cbc0038I Before mini branch and bound, 4379 integers at bound fixed and 8575 continuous\n",
      "Cbc0038I Full problem 8785 rows 13176 columns, reduced to 222 rows 222 columns\n",
      "Cbc0038I Mini branch and bound did not improve solution (113.56 seconds)\n",
      "Cbc0038I Round again with cutoff of -368441\n",
      "Cbc0038I Reduced cost fixing fixed 3649 variables on major pass 3\n",
      "Cbc0038I Pass   5: (124.50 seconds) suminf.    1.00000 (5) obj. -368441 iterations 549\n",
      "Cbc0038I Pass   6: (125.93 seconds) suminf.    1.00000 (5) obj. -368441 iterations 0\n",
      "Cbc0038I Pass   7: (129.65 seconds) suminf.    1.00782 (3) obj. -368441 iterations 600\n",
      "Cbc0038I Pass   8: (131.68 seconds) suminf.    0.00000 (0) obj. -368441 iterations 49\n",
      "Cbc0038I Solution found of -368441\n",
      "Cbc0038I Relaxing continuous gives -368477\n",
      "Cbc0038I Before mini branch and bound, 4377 integers at bound fixed and 8573 continuous\n",
      "Cbc0038I Full problem 8785 rows 13176 columns, reduced to 226 rows 226 columns\n",
      "Cbc0038I Mini branch and bound improved solution from -368477 to -368477 (142.60 seconds)\n",
      "Cbc0038I Round again with cutoff of -368528\n",
      "Cbc0038I Reduced cost fixing fixed 3807 variables on major pass 4\n",
      "Cbc0038I Pass   9: (150.42 seconds) suminf.    1.00000 (4) obj. -368528 iterations 9\n",
      "Cbc0038I Pass  10: (151.92 seconds) suminf.    1.00000 (4) obj. -368528 iterations 0\n",
      "Cbc0038I Pass  11: (155.04 seconds) suminf.    1.11609 (4) obj. -368528 iterations 570\n",
      "Cbc0038I Pass  12: (159.45 seconds) suminf.    1.90926 (8) obj. -368528 iterations 675\n",
      "Cbc0038I Pass  13: (162.46 seconds) suminf.    0.53066 (2) obj. -368528 iterations 293\n",
      "Cbc0038I Pass  14: (164.68 seconds) suminf.    0.42913 (2) obj. -368528 iterations 166\n",
      "Cbc0038I Pass  15: (167.91 seconds) suminf.    0.07916 (2) obj. -368528 iterations 487\n",
      "Cbc0038I Pass  16: (170.28 seconds) suminf.    0.27239 (2) obj. -368528 iterations 210\n",
      "Cbc0038I Pass  17: (172.55 seconds) suminf.    0.28504 (2) obj. -368528 iterations 271\n",
      "Cbc0038I Pass  18: (174.75 seconds) suminf.    0.60000 (3) obj. -368528 iterations 92\n",
      "Cbc0038I Pass  19: (176.90 seconds) suminf.    0.39659 (2) obj. -368528 iterations 179\n",
      "Cbc0038I Pass  20: (180.20 seconds) suminf.    0.25306 (2) obj. -368528 iterations 468\n",
      "Cbc0038I Pass  21: (183.18 seconds) suminf.    0.25272 (2) obj. -368528 iterations 349\n",
      "Cbc0038I Pass  22: (185.74 seconds) suminf.    1.00000 (6) obj. -368528 iterations 260\n",
      "Cbc0038I Pass  23: (187.88 seconds) suminf.    1.00000 (5) obj. -368528 iterations 127\n",
      "Cbc0038I Pass  24: (191.67 seconds) suminf.    1.29946 (6) obj. -368528 iterations 588\n",
      "Cbc0038I Pass  25: (194.76 seconds) suminf.    1.00000 (4) obj. -368528 iterations 545\n",
      "Cbc0038I Pass  26: (197.94 seconds) suminf.    1.04912 (3) obj. -368528 iterations 571\n",
      "Cbc0038I Pass  27: (201.97 seconds) suminf.    2.80718 (9) obj. -368528 iterations 637\n",
      "Cbc0038I Pass  28: (204.61 seconds) suminf.    1.00000 (4) obj. -368528 iterations 238\n",
      "Cbc0038I Pass  29: (205.46 seconds) suminf.    1.00000 (4) obj. -368528 iterations 0\n",
      "Cbc0038I Pass  30: (209.30 seconds) suminf.    1.02094 (3) obj. -368528 iterations 601\n",
      "Cbc0038I Pass  31: (213.57 seconds) suminf.    1.89114 (8) obj. -368528 iterations 670\n",
      "Cbc0038I Pass  32: (215.98 seconds) suminf.    1.00000 (4) obj. -368528 iterations 233\n",
      "Cbc0038I Pass  33: (221.27 seconds) suminf.    1.49905 (5) obj. -368528 iterations 619\n",
      "Cbc0038I Pass  34: (226.07 seconds) suminf.    1.20009 (6) obj. -368528 iterations 565\n",
      "Cbc0038I Pass  35: (228.64 seconds) suminf.    0.98485 (3) obj. -368528 iterations 145\n",
      "Cbc0038I Pass  36: (229.46 seconds) suminf.    0.98485 (3) obj. -368528 iterations 0\n",
      "Cbc0038I Pass  37: (231.79 seconds) suminf.    0.65080 (3) obj. -368528 iterations 103\n",
      "Cbc0038I Pass  38: (232.64 seconds) suminf.    0.65080 (3) obj. -368528 iterations 0\n",
      "Cbc0038I No solution found this major pass\n",
      "Cbc0038I Before mini branch and bound, 4359 integers at bound fixed and 8546 continuous\n",
      "Cbc0038I Full problem 8785 rows 13176 columns, reduced to 271 rows 271 columns\n",
      "Cbc0038I Mini branch and bound improved solution from -368477 to -368522 (241.50 seconds)\n",
      "Cbc0038I Round again with cutoff of -368563\n",
      "Cbc0038I Reduced cost fixing fixed 3841 variables on major pass 5\n",
      "Cbc0038I Pass  38: (250.16 seconds) suminf.    2.00000 (7) obj. -368563 iterations 89\n",
      "Cbc0038I Pass  39: (254.64 seconds) suminf.    1.15019 (4) obj. -368563 iterations 717\n",
      "Cbc0038I Pass  40: (257.96 seconds) suminf.    0.63594 (3) obj. -368563 iterations 534\n",
      "Cbc0038I Pass  41: (261.41 seconds) suminf.    0.57519 (2) obj. -368563 iterations 545\n",
      "Cbc0038I Pass  42: (264.30 seconds) suminf.    0.52486 (2) obj. -368563 iterations 375\n",
      "Cbc0038I Pass  43: (267.37 seconds) suminf.    0.74027 (3) obj. -368563 iterations 383\n",
      "Cbc0038I Pass  44: (270.62 seconds) suminf.    0.97398 (3) obj. -368563 iterations 418\n",
      "Cbc0038I Pass  45: (273.01 seconds) suminf.    1.98969 (6) obj. -368563 iterations 287\n",
      "Cbc0038I Pass  46: (276.29 seconds) suminf.    1.00000 (5) obj. -368563 iterations 367\n",
      "Cbc0038I Pass  47: (280.07 seconds) suminf.    1.15019 (4) obj. -368563 iterations 588\n",
      "Cbc0038I Pass  48: (283.28 seconds) suminf.    0.63594 (3) obj. -368563 iterations 520\n",
      "Cbc0038I Pass  49: (286.70 seconds) suminf.    0.57519 (2) obj. -368563 iterations 551\n",
      "Cbc0038I Pass  50: (289.97 seconds) suminf.    0.52486 (2) obj. -368563 iterations 375\n",
      "Cbc0038I Pass  51: (293.05 seconds) suminf.    0.74027 (3) obj. -368563 iterations 394\n",
      "Cbc0038I Pass  52: (296.31 seconds) suminf.    0.97398 (3) obj. -368563 iterations 437\n",
      "Cbc0038I Pass  53: (299.23 seconds) suminf.    1.00000 (4) obj. -368563 iterations 298\n",
      "Cbc0038I Pass  54: (301.60 seconds) suminf.    1.00000 (5) obj. -368563 iterations 189\n",
      "Cbc0038I Pass  55: (305.47 seconds) suminf.    1.40809 (5) obj. -368563 iterations 595\n",
      "Cbc0038I Pass  56: (309.00 seconds) suminf.    0.60234 (3) obj. -368563 iterations 499\n",
      "Cbc0038I Pass  57: (312.46 seconds) suminf.    0.57497 (2) obj. -368563 iterations 543\n",
      "Cbc0038I Pass  58: (315.58 seconds) suminf.    0.50979 (2) obj. -368563 iterations 366\n",
      "Cbc0038I Pass  59: (318.56 seconds) suminf.    0.68792 (3) obj. -368563 iterations 330\n",
      "Cbc0038I Pass  60: (321.61 seconds) suminf.    0.99697 (3) obj. -368563 iterations 343\n",
      "Cbc0038I Pass  61: (324.01 seconds) suminf.    0.73487 (3) obj. -368563 iterations 132\n",
      "Cbc0038I Pass  62: (327.36 seconds) suminf.    0.57497 (2) obj. -368563 iterations 521\n",
      "Cbc0038I Pass  63: (330.36 seconds) suminf.    0.50979 (2) obj. -368563 iterations 360\n",
      "Cbc0038I Pass  64: (333.48 seconds) suminf.    0.68792 (3) obj. -368563 iterations 337\n",
      "Cbc0038I Pass  65: (336.68 seconds) suminf.    0.99697 (3) obj. -368563 iterations 330\n",
      "Cbc0038I Pass  66: (339.05 seconds) suminf.    0.73487 (3) obj. -368563 iterations 123\n",
      "Cbc0038I Pass  67: (342.36 seconds) suminf.    0.57497 (2) obj. -368563 iterations 503\n",
      "Cbc0038I No solution found this major pass\n",
      "Cbc0038I Before mini branch and bound, 4374 integers at bound fixed and 8566 continuous\n",
      "Cbc0038I Full problem 8785 rows 13176 columns, reduced to 236 rows 236 columns\n",
      "Cbc0038I Mini branch and bound did not improve solution (348.58 seconds)\n",
      "Cbc0038I After 348.72 seconds - Feasibility pump exiting with objective of -368522 - took 238.53 seconds\n",
      "Cbc0012I Integer solution of -368522.18 found by feasibility pump after 0 iterations and 0 nodes (351.23 seconds)\n",
      "Cbc0038I Full problem 8785 rows 13176 columns, reduced to 4401 rows 4771 columns\n",
      "Cbc0031I 2 added rows had average density of 404.5\n",
      "Cbc0013I At root node, 2 cuts changed objective from -368646.02 to -368622.69 in 2 passes\n",
      "Cbc0014I Cut generator 0 (Probing) - 0 row cuts average 0.0 elements, 144 column cuts (144 active)  in 0.778 seconds - new frequency is 1\n",
      "Cbc0014I Cut generator 1 (Gomory) - 1 row cuts average 802.0 elements, 0 column cuts (0 active)  in 1.060 seconds - new frequency is -100\n",
      "Cbc0014I Cut generator 2 (Knapsack) - 0 row cuts average 0.0 elements, 0 column cuts (0 active)  in 0.070 seconds - new frequency is -100\n",
      "Cbc0014I Cut generator 3 (Clique) - 0 row cuts average 0.0 elements, 0 column cuts (0 active)  in 0.000 seconds - new frequency is -100\n",
      "Cbc0014I Cut generator 4 (MixedIntegerRounding2) - 0 row cuts average 0.0 elements, 0 column cuts (0 active)  in 1.494 seconds - new frequency is -100\n",
      "Cbc0014I Cut generator 5 (FlowCover) - 0 row cuts average 0.0 elements, 0 column cuts (0 active)  in 0.205 seconds - new frequency is -100\n",
      "Cbc0014I Cut generator 6 (TwoMirCuts) - 1 row cuts average 7.0 elements, 0 column cuts (0 active)  in 1.577 seconds - new frequency is -100\n",
      "Cbc0010I After 0 nodes, 1 on tree, -368522.18 best solution, best possible -368622.69 (409.36 seconds)\n",
      "Cbc0001I Search completed - best objective -368522.1774308173, took 251 iterations and 8 nodes (530.94 seconds)\n",
      "Cbc0032I Strong branching done 84 times (635 iterations), fathomed 5 nodes and fixed 2 variables\n",
      "Cbc0035I Maximum depth 3, 4043 variables fixed on reduced cost\n",
      "Cuts at root node changed objective from -368646 to -368623\n",
      "Probing was tried 10 times and created 144 cuts of which 0 were active after adding rounds of cuts (1.245 seconds)\n",
      "Gomory was tried 2 times and created 1 cuts of which 0 were active after adding rounds of cuts (1.060 seconds)\n",
      "Knapsack was tried 2 times and created 0 cuts of which 0 were active after adding rounds of cuts (0.070 seconds)\n",
      "Clique was tried 2 times and created 0 cuts of which 0 were active after adding rounds of cuts (0.000 seconds)\n",
      "MixedIntegerRounding2 was tried 2 times and created 0 cuts of which 0 were active after adding rounds of cuts (1.494 seconds)\n",
      "FlowCover was tried 2 times and created 0 cuts of which 0 were active after adding rounds of cuts (0.205 seconds)\n",
      "TwoMirCuts was tried 2 times and created 1 cuts of which 0 were active after adding rounds of cuts (1.577 seconds)\n",
      "ZeroHalf was tried 1 times and created 0 cuts of which 0 were active after adding rounds of cuts (0.001 seconds)\n",
      "\n",
      "Result - Optimal solution found\n",
      "\n",
      "Objective value:                368522.17743081\n",
      "Enumerated nodes:               8\n",
      "Total iterations:               251\n",
      "Time (CPU seconds):             479.57\n",
      "Time (Wallclock seconds):       569.44\n",
      "\n",
      "Option for printingOptions changed from normal to all\n",
      "Total time (CPU seconds):       489.12   (Wallclock seconds):       579.99\n",
      "\n"
     ]
    },
    {
     "name": "stdout",
     "output_type": "stream",
     "text": [
      "Total simulation time: 1016.7546529769897 seconds\n"
     ]
    }
   ],
   "source": [
    "#Track simulation time\n",
    "tic = time.time()\n",
    "\n",
    "#Set objective function\n",
    "battery.set_objective(lmp_df)\n",
    "\n",
    "#Set constraints\n",
    "battery.add_storage_constraints(efficiency, min_capacity, discharge_energy_capacity, initial_level)\n",
    "\n",
    "battery.add_discharge_constraints(max_discharge_count,discharge_energy_capacity)\n",
    "\n",
    "#Solve the optimization problem and collect output\n",
    "battery.solve_model()\n",
    "\n",
    "df_2 = battery.collect_output(lmp_df,initial_level)\n",
    "\n",
    "toc = time.time()\n",
    "\n",
    "print('Total simulation time: ' + str(toc-tic) + ' seconds')"
   ]
  },
  {
   "cell_type": "markdown",
   "metadata": {},
   "source": [
    "# Concat two simulations and explore the result"
   ]
  },
  {
   "cell_type": "code",
   "execution_count": 14,
   "metadata": {},
   "outputs": [
    {
     "data": {
      "text/html": [
       "<div>\n",
       "<style scoped>\n",
       "    .dataframe tbody tr th:only-of-type {\n",
       "        vertical-align: middle;\n",
       "    }\n",
       "\n",
       "    .dataframe tbody tr th {\n",
       "        vertical-align: top;\n",
       "    }\n",
       "\n",
       "    .dataframe thead th {\n",
       "        text-align: right;\n",
       "    }\n",
       "</style>\n",
       "<table border=\"1\" class=\"dataframe\">\n",
       "  <thead>\n",
       "    <tr style=\"text-align: right;\">\n",
       "      <th></th>\n",
       "      <th>LBMP ($/MWHr)</th>\n",
       "      <th>charge</th>\n",
       "      <th>discharge</th>\n",
       "      <th>discharge_status</th>\n",
       "      <th>state_of_energy</th>\n",
       "    </tr>\n",
       "    <tr>\n",
       "      <th>Time Stamp</th>\n",
       "      <th></th>\n",
       "      <th></th>\n",
       "      <th></th>\n",
       "      <th></th>\n",
       "      <th></th>\n",
       "    </tr>\n",
       "  </thead>\n",
       "  <tbody>\n",
       "    <tr>\n",
       "      <th>2019-05-01 00:00:00</th>\n",
       "      <td>20.32</td>\n",
       "      <td>-0.000000</td>\n",
       "      <td>0.0</td>\n",
       "      <td>0.0</td>\n",
       "      <td>100.0</td>\n",
       "    </tr>\n",
       "    <tr>\n",
       "      <th>2019-05-01 01:00:00</th>\n",
       "      <td>17.09</td>\n",
       "      <td>-0.000000</td>\n",
       "      <td>0.0</td>\n",
       "      <td>0.0</td>\n",
       "      <td>100.0</td>\n",
       "    </tr>\n",
       "    <tr>\n",
       "      <th>2019-05-01 02:00:00</th>\n",
       "      <td>14.89</td>\n",
       "      <td>-0.000000</td>\n",
       "      <td>0.0</td>\n",
       "      <td>0.0</td>\n",
       "      <td>100.0</td>\n",
       "    </tr>\n",
       "    <tr>\n",
       "      <th>2019-05-01 03:00:00</th>\n",
       "      <td>14.49</td>\n",
       "      <td>-17.647059</td>\n",
       "      <td>0.0</td>\n",
       "      <td>0.0</td>\n",
       "      <td>115.0</td>\n",
       "    </tr>\n",
       "    <tr>\n",
       "      <th>2019-05-01 04:00:00</th>\n",
       "      <td>14.49</td>\n",
       "      <td>-100.000000</td>\n",
       "      <td>0.0</td>\n",
       "      <td>0.0</td>\n",
       "      <td>200.0</td>\n",
       "    </tr>\n",
       "  </tbody>\n",
       "</table>\n",
       "</div>"
      ],
      "text/plain": [
       "                     LBMP ($/MWHr)      charge  discharge  discharge_status  \\\n",
       "Time Stamp                                                                    \n",
       "2019-05-01 00:00:00          20.32   -0.000000        0.0               0.0   \n",
       "2019-05-01 01:00:00          17.09   -0.000000        0.0               0.0   \n",
       "2019-05-01 02:00:00          14.89   -0.000000        0.0               0.0   \n",
       "2019-05-01 03:00:00          14.49  -17.647059        0.0               0.0   \n",
       "2019-05-01 04:00:00          14.49 -100.000000        0.0               0.0   \n",
       "\n",
       "                     state_of_energy  \n",
       "Time Stamp                            \n",
       "2019-05-01 00:00:00            100.0  \n",
       "2019-05-01 01:00:00            100.0  \n",
       "2019-05-01 02:00:00            100.0  \n",
       "2019-05-01 03:00:00            115.0  \n",
       "2019-05-01 04:00:00            200.0  "
      ]
     },
     "execution_count": 14,
     "metadata": {},
     "output_type": "execute_result"
    }
   ],
   "source": [
    "df = pd.concat([df_1,df_2])\n",
    "df.head()"
   ]
  },
  {
   "cell_type": "markdown",
   "metadata": {},
   "source": [
    "First of all, let's see if the operations meet our constraints."
   ]
  },
  {
   "cell_type": "code",
   "execution_count": 15,
   "metadata": {},
   "outputs": [
    {
     "data": {
      "image/png": "[encoded data removed]",
      "text/plain": [
       "<Figure size 432x288 with 4 Axes>"
      ]
     },
     "metadata": {
      "needs_background": "light"
     },
     "output_type": "display_data"
    }
   ],
   "source": [
    "df[['charge','discharge','state_of_energy']].hist()\n",
    "plt.tight_layout()"
   ]
  },
  {
   "cell_type": "markdown",
   "metadata": {},
   "source": [
    "Great! Looks like the discharge, charge and state of energy are all within bounds. Let's calculate the annual dispatch hours. "
   ]
  },
  {
   "cell_type": "code",
   "execution_count": 16,
   "metadata": {},
   "outputs": [
    {
     "data": {
      "text/plain": [
       "730.0"
      ]
     },
     "execution_count": 16,
     "metadata": {},
     "output_type": "execute_result"
    }
   ],
   "source": [
    "df.discharge_status.sum()"
   ]
  },
  {
   "cell_type": "markdown",
   "metadata": {},
   "source": [
    "The battery is dispatched for 730 hours during the year, which is exactly 2 hours/day * 365 days per constraint. But is it really dispatched 2 hours each day?"
   ]
  },
  {
   "cell_type": "code",
   "execution_count": 17,
   "metadata": {},
   "outputs": [
    {
     "data": {
      "text/plain": [
       "<matplotlib.legend.Legend at 0x7fdab6524c10>"
      ]
     },
     "execution_count": 17,
     "metadata": {},
     "output_type": "execute_result"
    },
    {
     "data": {
      "image/png": "[encoded data removed]",
      "text/plain": [
       "<Figure size 1080x288 with 2 Axes>"
      ]
     },
     "metadata": {
      "needs_background": "light"
     },
     "output_type": "display_data"
    }
   ],
   "source": [
    "fig, ax1 = plt.subplots(figsize=(15,4))\n",
    "ax2 = ax1.twinx()\n",
    "ax1.plot(df.resample('D').discharge_status.sum(),label='daily discharge hours')\n",
    "ax2.plot(df.resample('D')['LBMP ($/MWHr)'].mean(),'r--',label='daily average LMP')\n",
    "\n",
    "ax1.set_ylabel('daily discharge hours')\n",
    "ax2.set_ylabel('daily average LMP ($/MWH)')\n",
    "\n",
    "lines, labels = ax1.get_legend_handles_labels()\n",
    "lines2, labels2 = ax2.get_legend_handles_labels()\n",
    "ax2.legend(lines + lines2, labels + labels2, loc=0)"
   ]
  },
  {
   "cell_type": "markdown",
   "metadata": {},
   "source": [
    "It turns out that for most days it's dispatched for 2 hours during that day, but at times it's dispatched for 4 hours or 0 hour. Obviously a semi-annual simulation plans the battery operation differently than daily simulation as shown in Steven's work "
   ]
  },
  {
   "cell_type": "markdown",
   "metadata": {},
   "source": [
    "What about the annual profit?"
   ]
  },
  {
   "cell_type": "code",
   "execution_count": 18,
   "metadata": {},
   "outputs": [
    {
     "data": {
      "text/plain": [
       "984.5819987786421"
      ]
     },
     "execution_count": 18,
     "metadata": {},
     "output_type": "execute_result"
    }
   ],
   "source": [
    "(df['LBMP ($/MWHr)']*(df['discharge']+df['charge'])).sum()/1000"
   ]
  },
  {
   "cell_type": "markdown",
   "metadata": {},
   "source": [
    "OK it's slightly higher than the original work by Steven. It's expected to be so because we assume the LMP is known for a much longer time span. Let's zoom in to see how exactly the battery is dispatched during a high-profit day. "
   ]
  },
  {
   "cell_type": "code",
   "execution_count": 19,
   "metadata": {},
   "outputs": [
    {
     "data": {
      "text/plain": [
       "<matplotlib.legend.Legend at 0x7fdab6755880>"
      ]
     },
     "execution_count": 19,
     "metadata": {},
     "output_type": "execute_result"
    },
    {
     "data": {
      "image/png": "[encoded data removed]",
      "text/plain": [
       "<Figure size 1080x288 with 2 Axes>"
      ]
     },
     "metadata": {
      "needs_background": "light"
     },
     "output_type": "display_data"
    }
   ],
   "source": [
    "plot_df = df['2019-12-17':'2019-12-22']\n",
    "fig, ax1 = plt.subplots(figsize=(15,4))\n",
    "ax2 = ax1.twinx()\n",
    "ax1.plot(plot_df['state_of_energy'],'-*',label='state of energy')\n",
    "ax2.plot(plot_df['LBMP ($/MWHr)'],'r--',label='LMP')\n",
    "\n",
    "lines, labels = ax1.get_legend_handles_labels()\n",
    "lines2, labels2 = ax2.get_legend_handles_labels()\n",
    "ax2.legend(lines + lines2, labels + labels2, loc=0)"
   ]
  },
  {
   "cell_type": "markdown",
   "metadata": {},
   "source": [
    "As it shows, on 12/20 two charge-discharge cycles took place, which is not typical. This is likely due to a special price curve on that day with two peaks and large fluctuations."
   ]
  },
  {
   "cell_type": "markdown",
   "metadata": {},
   "source": [
    "# Conclusions\n",
    "\n",
    "1. Assuming we know the LMP for a whole year period, doing semi-annual simulations seem to increase the profit than daily simulations. \n",
    "2. This also changes how the battery is dispatched. It may not be dispatched at all during certain days just so more dispatches can happen on other days to maximize the profit while not exceeding dispatch limit"
   ]
  },
  {
   "cell_type": "markdown",
   "metadata": {},
   "source": [
    "# Future work\n",
    "\n",
    "1. It'll be worth exploring how the result may vary with a single whole-year simulation instead of two semi-annual simulations. \n",
    "2. Adding peak demand reduction as part of the objective function may further increase the profit and affect the dispatch patterns"
   ]
  },
  {
   "cell_type": "code",
   "execution_count": null,
   "metadata": {},
   "outputs": [],
   "source": []
  }
 ],
 "metadata": {
  "kernelspec": {
   "display_name": "Python 3 (ipykernel)",
   "language": "python",
   "name": "python3"
  },
  "language_info": {
   "codemirror_mode": {
    "name": "ipython",
    "version": 3
   },
   "file_extension": ".py",
   "mimetype": "text/x-python",
   "name": "python",
   "nbconvert_exporter": "python",
   "pygments_lexer": "ipython3",
   "version": "3.8.11"
  }
 },
 "nbformat": 4,
 "nbformat_minor": 2
}
